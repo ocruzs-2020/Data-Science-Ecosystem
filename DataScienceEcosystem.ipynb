{
  "metadata": {
    "kernelspec": {
      "name": "python",
      "display_name": "Python (Pyodide)",
      "language": "python"
    },
    "language_info": {
      "codemirror_mode": {
        "name": "python",
        "version": 3
      },
      "file_extension": ".py",
      "mimetype": "text/x-python",
      "name": "python",
      "nbconvert_exporter": "python",
      "pygments_lexer": "ipython3",
      "version": "3.8"
    }
  },
  "nbformat_minor": 4,
  "nbformat": 4,
  "cells": [
    {
      "cell_type": "markdown",
      "source": "# Data Science Tools and Ecosystem",
      "metadata": {}
    },
    {
      "cell_type": "markdown",
      "source": "This notebook summarizes data science tools and ecosystems.",
      "metadata": {}
    },
    {
      "cell_type": "markdown",
      "source": "Some of the popular languages ​​used by data scientists are:\n1. Python  \n2. R  \n3. SQL  ",
      "metadata": {}
    },
    {
      "cell_type": "markdown",
      "source": "Some of the libraries commonly used by data scientists include:\n1. NumPy  \n2. Pandas  \n3. Scikit-Learn  \n",
      "metadata": {}
    },
    {
      "cell_type": "markdown",
      "source": "| Data Science Tools               |  \n|----------------------------------|  \n| Jupyter Notebook                 |  \n| RStudio                          |  \n| Apache Zeppelin                  |  \n",
      "metadata": {}
    },
    {
      "cell_type": "markdown",
      "source": "### Below are some examples of evaluating arithmetic expressions in Python.",
      "metadata": {}
    },
    {
      "cell_type": "code",
      "source": "# This is a simple arithmetic expression to multiply and then add integers\n(3 * 4) + 5  \n",
      "metadata": {
        "trusted": true
      },
      "outputs": [
        {
          "execution_count": 12,
          "output_type": "execute_result",
          "data": {
            "text/plain": "17"
          },
          "metadata": {}
        }
      ],
      "execution_count": 12
    },
    {
      "cell_type": "code",
      "source": "# This will convert 200 minutes to hours by dividing by 60\n200 / 60  \n",
      "metadata": {
        "trusted": true
      },
      "outputs": [
        {
          "execution_count": 13,
          "output_type": "execute_result",
          "data": {
            "text/plain": "3.3333333333333335"
          },
          "metadata": {}
        }
      ],
      "execution_count": 13
    },
    {
      "cell_type": "markdown",
      "source": "**Goals:**  \n- List popular languages for Data Science.  \n- List common Data Science libraries.  \n- Show development tools used in Data Science.\n",
      "metadata": {}
    },
    {
      "cell_type": "markdown",
      "source": "## Author\nOmar Yesid Cruz Sanchez  \n",
      "metadata": {}
    },
    {
      "cell_type": "code",
      "source": "",
      "metadata": {
        "trusted": true
      },
      "outputs": [],
      "execution_count": null
    }
  ]
}